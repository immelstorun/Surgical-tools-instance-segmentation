{
 "cells": [
  {
   "cell_type": "markdown",
   "metadata": {},
   "source": [
    "- Сбор датасета\n",
    "- Разметка датасета\n",
    "- Экспорт в формат COCO\n",
    "- [Конвертация в формат YOLO](https://github.com/Koldim2001/COCO_to_YOLOv8) \n",
    "- [Установка CUDA](https://developer.nvidia.com/cuda-downloads)\n",
    "- Установка PyTorch"
   ]
  },
  {
   "cell_type": "code",
   "execution_count": 5,
   "metadata": {},
   "outputs": [
    {
     "name": "stdout",
     "output_type": "stream",
     "text": [
      "Sun Apr 21 23:45:05 2024       \n",
      "+-----------------------------------------------------------------------------------------+\n",
      "| NVIDIA-SMI 551.78                 Driver Version: 551.78         CUDA Version: 12.4     |\n",
      "|-----------------------------------------+------------------------+----------------------+\n",
      "| GPU  Name                     TCC/WDDM  | Bus-Id          Disp.A | Volatile Uncorr. ECC |\n",
      "| Fan  Temp   Perf          Pwr:Usage/Cap |           Memory-Usage | GPU-Util  Compute M. |\n",
      "|                                         |                        |               MIG M. |\n",
      "|=========================================+========================+======================|\n",
      "|   0  NVIDIA GeForce GTX 970M      WDDM  |   00000000:01:00.0  On |                  N/A |\n",
      "| N/A   49C    P8              9W / 1000W |     260MiB /   3072MiB |     14%      Default |\n",
      "|                                         |                        |                  N/A |\n",
      "+-----------------------------------------+------------------------+----------------------+\n",
      "|   1  NVIDIA GeForce RTX 3080 Ti   WDDM  |   00000000:0A:00.0  On |                  N/A |\n",
      "| 41%   34C    P5             32W /  350W |    1233MiB /  12288MiB |     34%      Default |\n",
      "|                                         |                        |                  N/A |\n",
      "+-----------------------------------------+------------------------+----------------------+\n",
      "                                                                                         \n",
      "+-----------------------------------------------------------------------------------------+\n",
      "| Processes:                                                                              |\n",
      "|  GPU   GI   CI        PID   Type   Process name                              GPU Memory |\n",
      "|        ID   ID                                                               Usage      |\n",
      "|=========================================================================================|\n",
      "|    0   N/A  N/A     11056    C+G   C:\\Program Files (x86)\\SCM\\SCM.exe          N/A      |\n",
      "|    1   N/A  N/A       768    C+G   C:\\Windows\\explorer.exe                     N/A      |\n",
      "|    1   N/A  N/A      4380    C+G   ...Programs\\Microsoft VS Code\\Code.exe      N/A      |\n",
      "|    1   N/A  N/A      5900    C+G   ...0.0_x64__t4vj0pshhgkwm\\Telegram.exe      N/A      |\n",
      "|    1   N/A  N/A      7684    C+G   ...nt.CBS_cw5n1h2txyewy\\SearchHost.exe      N/A      |\n",
      "|    1   N/A  N/A      8020    C+G   ...2txyewy\\StartMenuExperienceHost.exe      N/A      |\n",
      "|    1   N/A  N/A      8124    C+G   ...5n1h2txyewy\\ShellExperienceHost.exe      N/A      |\n",
      "|    1   N/A  N/A      9896    C+G   ...crosoft\\Edge\\Application\\msedge.exe      N/A      |\n",
      "|    1   N/A  N/A     11056    C+G   C:\\Program Files (x86)\\SCM\\SCM.exe          N/A      |\n",
      "|    1   N/A  N/A     12248    C+G   ...ndexBrowser\\Application\\browser.exe      N/A      |\n",
      "|    1   N/A  N/A     12976    C+G   ...siveControlPanel\\SystemSettings.exe      N/A      |\n",
      "|    1   N/A  N/A     16232    C+G   ...on\\123.0.2420.97\\msedgewebview2.exe      N/A      |\n",
      "+-----------------------------------------------------------------------------------------+\n"
     ]
    }
   ],
   "source": [
    "!nvidia-smi"
   ]
  },
  {
   "cell_type": "code",
   "execution_count": 6,
   "metadata": {},
   "outputs": [],
   "source": [
    "# conda install pytorch torchvision torchaudio pytorch-cuda=12.1 -c pytorch -c nvidia"
   ]
  },
  {
   "cell_type": "code",
   "execution_count": 7,
   "metadata": {},
   "outputs": [
    {
     "name": "stdout",
     "output_type": "stream",
     "text": [
      "nvcc: NVIDIA (R) Cuda compiler driver\n",
      "Copyright (c) 2005-2023 NVIDIA Corporation\n",
      "Built on Wed_Feb__8_05:53:42_Coordinated_Universal_Time_2023\n",
      "Cuda compilation tools, release 12.1, V12.1.66\n",
      "Build cuda_12.1.r12.1/compiler.32415258_0\n"
     ]
    }
   ],
   "source": [
    "!nvcc --version"
   ]
  },
  {
   "cell_type": "code",
   "execution_count": 8,
   "metadata": {},
   "outputs": [
    {
     "name": "stdout",
     "output_type": "stream",
     "text": [
      "12.1\n"
     ]
    }
   ],
   "source": [
    "import torch\n",
    "print(torch.version.cuda)"
   ]
  },
  {
   "cell_type": "code",
   "execution_count": 14,
   "metadata": {},
   "outputs": [
    {
     "name": "stdout",
     "output_type": "stream",
     "text": [
      "Collecting ultralytics\n",
      "  Using cached ultralytics-8.2.2-py3-none-any.whl.metadata (40 kB)\n",
      "Collecting matplotlib>=3.3.0 (from ultralytics)\n",
      "  Downloading matplotlib-3.7.5-cp38-cp38-win_amd64.whl.metadata (5.8 kB)\n",
      "Requirement already satisfied: opencv-python>=4.6.0 in c:\\users\\alex_ds\\anaconda3\\envs\\yolo\\lib\\site-packages (from ultralytics) (4.9.0.80)\n",
      "Requirement already satisfied: pillow>=7.1.2 in c:\\users\\alex_ds\\anaconda3\\envs\\yolo\\lib\\site-packages (from ultralytics) (10.2.0)\n",
      "Requirement already satisfied: pyyaml>=5.3.1 in c:\\users\\alex_ds\\anaconda3\\envs\\yolo\\lib\\site-packages (from ultralytics) (6.0.1)\n",
      "Requirement already satisfied: requests>=2.23.0 in c:\\users\\alex_ds\\anaconda3\\envs\\yolo\\lib\\site-packages (from ultralytics) (2.31.0)\n",
      "Collecting scipy>=1.4.1 (from ultralytics)\n",
      "  Downloading scipy-1.10.1-cp38-cp38-win_amd64.whl.metadata (58 kB)\n",
      "     ---------------------------------------- 0.0/59.0 kB ? eta -:--:--\n",
      "     ---------------------------------------- 0.0/59.0 kB ? eta -:--:--\n",
      "     ------ --------------------------------- 10.2/59.0 kB ? eta -:--:--\n",
      "     ------ --------------------------------- 10.2/59.0 kB ? eta -:--:--\n",
      "     ------------------- ------------------ 30.7/59.0 kB 217.9 kB/s eta 0:00:01\n",
      "     -------------------------------- ----- 51.2/59.0 kB 238.1 kB/s eta 0:00:01\n",
      "     -------------------------------------- 59.0/59.0 kB 259.2 kB/s eta 0:00:00\n",
      "Requirement already satisfied: torch>=1.8.0 in c:\\users\\alex_ds\\anaconda3\\envs\\yolo\\lib\\site-packages (from ultralytics) (2.2.2)\n",
      "Requirement already satisfied: torchvision>=0.9.0 in c:\\users\\alex_ds\\anaconda3\\envs\\yolo\\lib\\site-packages (from ultralytics) (0.17.2)\n",
      "Collecting tqdm>=4.64.0 (from ultralytics)\n",
      "  Downloading tqdm-4.66.2-py3-none-any.whl.metadata (57 kB)\n",
      "     ---------------------------------------- 0.0/57.6 kB ? eta -:--:--\n",
      "     --------------------------------- ---- 51.2/57.6 kB 871.5 kB/s eta 0:00:01\n",
      "     -------------------------------------- 57.6/57.6 kB 763.7 kB/s eta 0:00:00\n",
      "Requirement already satisfied: psutil in c:\\users\\alex_ds\\anaconda3\\envs\\yolo\\lib\\site-packages (from ultralytics) (5.9.0)\n",
      "Collecting py-cpuinfo (from ultralytics)\n",
      "  Using cached py_cpuinfo-9.0.0-py3-none-any.whl.metadata (794 bytes)\n",
      "Collecting thop>=0.1.1 (from ultralytics)\n",
      "  Using cached thop-0.1.1.post2209072238-py3-none-any.whl.metadata (2.7 kB)\n",
      "Collecting pandas>=1.1.4 (from ultralytics)\n",
      "  Downloading pandas-2.0.3-cp38-cp38-win_amd64.whl.metadata (18 kB)\n",
      "Collecting seaborn>=0.11.0 (from ultralytics)\n",
      "  Using cached seaborn-0.13.2-py3-none-any.whl.metadata (5.4 kB)\n",
      "Collecting contourpy>=1.0.1 (from matplotlib>=3.3.0->ultralytics)\n",
      "  Downloading contourpy-1.1.1-cp38-cp38-win_amd64.whl.metadata (5.9 kB)\n",
      "Collecting cycler>=0.10 (from matplotlib>=3.3.0->ultralytics)\n",
      "  Using cached cycler-0.12.1-py3-none-any.whl.metadata (3.8 kB)\n",
      "Collecting fonttools>=4.22.0 (from matplotlib>=3.3.0->ultralytics)\n",
      "  Downloading fonttools-4.51.0-cp38-cp38-win_amd64.whl.metadata (162 kB)\n",
      "     ---------------------------------------- 0.0/162.8 kB ? eta -:--:--\n",
      "     ----------------------- -------------- 102.4/162.8 kB 2.0 MB/s eta 0:00:01\n",
      "     ------------------------------- ------ 133.1/162.8 kB 1.3 MB/s eta 0:00:01\n",
      "     -------------------------------------- 162.8/162.8 kB 1.4 MB/s eta 0:00:00\n",
      "Collecting kiwisolver>=1.0.1 (from matplotlib>=3.3.0->ultralytics)\n",
      "  Downloading kiwisolver-1.4.5-cp38-cp38-win_amd64.whl.metadata (6.5 kB)\n",
      "Requirement already satisfied: numpy<2,>=1.20 in c:\\users\\alex_ds\\anaconda3\\envs\\yolo\\lib\\site-packages (from matplotlib>=3.3.0->ultralytics) (1.24.3)\n",
      "Requirement already satisfied: packaging>=20.0 in c:\\users\\alex_ds\\anaconda3\\envs\\yolo\\lib\\site-packages (from matplotlib>=3.3.0->ultralytics) (23.2)\n",
      "Collecting pyparsing>=2.3.1 (from matplotlib>=3.3.0->ultralytics)\n",
      "  Using cached pyparsing-3.1.2-py3-none-any.whl.metadata (5.1 kB)\n",
      "Requirement already satisfied: python-dateutil>=2.7 in c:\\users\\alex_ds\\anaconda3\\envs\\yolo\\lib\\site-packages (from matplotlib>=3.3.0->ultralytics) (2.8.2)\n",
      "Collecting importlib-resources>=3.2.0 (from matplotlib>=3.3.0->ultralytics)\n",
      "  Downloading importlib_resources-6.4.0-py3-none-any.whl.metadata (3.9 kB)\n",
      "Collecting pytz>=2020.1 (from pandas>=1.1.4->ultralytics)\n",
      "  Using cached pytz-2024.1-py2.py3-none-any.whl.metadata (22 kB)\n",
      "Collecting tzdata>=2022.1 (from pandas>=1.1.4->ultralytics)\n",
      "  Using cached tzdata-2024.1-py2.py3-none-any.whl.metadata (1.4 kB)\n",
      "Requirement already satisfied: charset-normalizer<4,>=2 in c:\\users\\alex_ds\\anaconda3\\envs\\yolo\\lib\\site-packages (from requests>=2.23.0->ultralytics) (2.0.4)\n",
      "Requirement already satisfied: idna<4,>=2.5 in c:\\users\\alex_ds\\anaconda3\\envs\\yolo\\lib\\site-packages (from requests>=2.23.0->ultralytics) (3.4)\n",
      "Requirement already satisfied: urllib3<3,>=1.21.1 in c:\\users\\alex_ds\\anaconda3\\envs\\yolo\\lib\\site-packages (from requests>=2.23.0->ultralytics) (2.1.0)\n",
      "Requirement already satisfied: certifi>=2017.4.17 in c:\\users\\alex_ds\\anaconda3\\envs\\yolo\\lib\\site-packages (from requests>=2.23.0->ultralytics) (2024.2.2)\n",
      "Requirement already satisfied: filelock in c:\\users\\alex_ds\\anaconda3\\envs\\yolo\\lib\\site-packages (from torch>=1.8.0->ultralytics) (3.13.1)\n",
      "Requirement already satisfied: typing-extensions>=4.8.0 in c:\\users\\alex_ds\\anaconda3\\envs\\yolo\\lib\\site-packages (from torch>=1.8.0->ultralytics) (4.9.0)\n",
      "Requirement already satisfied: sympy in c:\\users\\alex_ds\\anaconda3\\envs\\yolo\\lib\\site-packages (from torch>=1.8.0->ultralytics) (1.12)\n",
      "Requirement already satisfied: networkx in c:\\users\\alex_ds\\anaconda3\\envs\\yolo\\lib\\site-packages (from torch>=1.8.0->ultralytics) (3.1)\n",
      "Requirement already satisfied: jinja2 in c:\\users\\alex_ds\\anaconda3\\envs\\yolo\\lib\\site-packages (from torch>=1.8.0->ultralytics) (3.1.3)\n",
      "Collecting fsspec (from torch>=1.8.0->ultralytics)\n",
      "  Using cached fsspec-2024.3.1-py3-none-any.whl.metadata (6.8 kB)\n",
      "Requirement already satisfied: colorama in c:\\users\\alex_ds\\anaconda3\\envs\\yolo\\lib\\site-packages (from tqdm>=4.64.0->ultralytics) (0.4.6)\n",
      "Requirement already satisfied: zipp>=3.1.0 in c:\\users\\alex_ds\\anaconda3\\envs\\yolo\\lib\\site-packages (from importlib-resources>=3.2.0->matplotlib>=3.3.0->ultralytics) (3.17.0)\n",
      "Requirement already satisfied: six>=1.5 in c:\\users\\alex_ds\\anaconda3\\envs\\yolo\\lib\\site-packages (from python-dateutil>=2.7->matplotlib>=3.3.0->ultralytics) (1.16.0)\n",
      "Requirement already satisfied: MarkupSafe>=2.0 in c:\\users\\alex_ds\\anaconda3\\envs\\yolo\\lib\\site-packages (from jinja2->torch>=1.8.0->ultralytics) (2.1.3)\n",
      "Requirement already satisfied: mpmath>=0.19 in c:\\users\\alex_ds\\anaconda3\\envs\\yolo\\lib\\site-packages (from sympy->torch>=1.8.0->ultralytics) (1.3.0)\n",
      "Using cached ultralytics-8.2.2-py3-none-any.whl (750 kB)\n",
      "Downloading matplotlib-3.7.5-cp38-cp38-win_amd64.whl (7.5 MB)\n",
      "   ---------------------------------------- 0.0/7.5 MB ? eta -:--:--\n",
      "   - -------------------------------------- 0.3/7.5 MB 7.9 MB/s eta 0:00:01\n",
      "   - -------------------------------------- 0.3/7.5 MB 3.3 MB/s eta 0:00:03\n",
      "   ---- ----------------------------------- 0.8/7.5 MB 5.3 MB/s eta 0:00:02\n",
      "   ---- ----------------------------------- 0.9/7.5 MB 4.8 MB/s eta 0:00:02\n",
      "   --------- ------------------------------ 1.8/7.5 MB 7.2 MB/s eta 0:00:01\n",
      "   ------------ --------------------------- 2.3/7.5 MB 7.4 MB/s eta 0:00:01\n",
      "   -------------------- ------------------- 3.8/7.5 MB 10.2 MB/s eta 0:00:01\n",
      "   ------------------------- -------------- 4.8/7.5 MB 10.9 MB/s eta 0:00:01\n",
      "   --------------------------- ------------ 5.1/7.5 MB 11.2 MB/s eta 0:00:01\n",
      "   ---------------------------- ----------- 5.3/7.5 MB 9.5 MB/s eta 0:00:01\n",
      "   -------------------------------------- - 7.3/7.5 MB 12.6 MB/s eta 0:00:01\n",
      "   ---------------------------------------  7.5/7.5 MB 11.7 MB/s eta 0:00:01\n",
      "   ---------------------------------------- 7.5/7.5 MB 10.9 MB/s eta 0:00:00\n",
      "Downloading pandas-2.0.3-cp38-cp38-win_amd64.whl (10.8 MB)\n",
      "   ---------------------------------------- 0.0/10.8 MB ? eta -:--:--\n",
      "   ---- ----------------------------------- 1.3/10.8 MB 27.0 MB/s eta 0:00:01\n",
      "   -------- ------------------------------- 2.2/10.8 MB 23.5 MB/s eta 0:00:01\n",
      "   -------- ------------------------------- 2.2/10.8 MB 23.5 MB/s eta 0:00:01\n",
      "   ---------- ----------------------------- 2.7/10.8 MB 13.2 MB/s eta 0:00:01\n",
      "   --------------------- ------------------ 5.7/10.8 MB 24.4 MB/s eta 0:00:01\n",
      "   --------------------- ------------------ 5.7/10.8 MB 24.4 MB/s eta 0:00:01\n",
      "   ------------------------- -------------- 6.8/10.8 MB 19.8 MB/s eta 0:00:01\n",
      "   ----------------------------- ---------- 7.9/10.8 MB 20.1 MB/s eta 0:00:01\n",
      "   -------------------------------- ------- 8.8/10.8 MB 20.1 MB/s eta 0:00:01\n",
      "   ---------------------------------- ----- 9.2/10.8 MB 19.6 MB/s eta 0:00:01\n",
      "   ------------------------------------- -- 10.0/10.8 MB 18.9 MB/s eta 0:00:01\n",
      "   ---------------------------------------  10.6/10.8 MB 18.2 MB/s eta 0:00:01\n",
      "   ---------------------------------------  10.8/10.8 MB 17.7 MB/s eta 0:00:01\n",
      "   ---------------------------------------- 10.8/10.8 MB 16.8 MB/s eta 0:00:00\n",
      "Downloading scipy-1.10.1-cp38-cp38-win_amd64.whl (42.2 MB)\n",
      "   ---------------------------------------- 0.0/42.2 MB ? eta -:--:--\n",
      "    --------------------------------------- 1.0/42.2 MB 20.7 MB/s eta 0:00:02\n",
      "   - -------------------------------------- 1.5/42.2 MB 16.2 MB/s eta 0:00:03\n",
      "   -- ------------------------------------- 2.4/42.2 MB 17.0 MB/s eta 0:00:03\n",
      "   -- ------------------------------------- 2.7/42.2 MB 17.0 MB/s eta 0:00:03\n",
      "   -- ------------------------------------- 2.7/42.2 MB 17.0 MB/s eta 0:00:03\n",
      "   --- ------------------------------------ 3.2/42.2 MB 12.9 MB/s eta 0:00:04\n",
      "   ---- ----------------------------------- 4.8/42.2 MB 14.6 MB/s eta 0:00:03\n",
      "   ---- ----------------------------------- 5.2/42.2 MB 14.0 MB/s eta 0:00:03\n",
      "   ----- ---------------------------------- 5.8/42.2 MB 13.6 MB/s eta 0:00:03\n",
      "   ----- ---------------------------------- 6.2/42.2 MB 13.1 MB/s eta 0:00:03\n",
      "   ------ --------------------------------- 6.8/42.2 MB 13.1 MB/s eta 0:00:03\n",
      "   ------ --------------------------------- 7.2/42.2 MB 12.8 MB/s eta 0:00:03\n",
      "   ------- -------------------------------- 7.8/42.2 MB 12.8 MB/s eta 0:00:03\n",
      "   ------- -------------------------------- 8.2/42.2 MB 12.5 MB/s eta 0:00:03\n",
      "   -------- ------------------------------- 8.9/42.2 MB 12.6 MB/s eta 0:00:03\n",
      "   -------- ------------------------------- 9.2/42.2 MB 12.3 MB/s eta 0:00:03\n",
      "   -------- ------------------------------- 9.5/42.2 MB 12.4 MB/s eta 0:00:03\n",
      "   -------- ------------------------------- 9.5/42.2 MB 12.4 MB/s eta 0:00:03\n",
      "   ---------- ----------------------------- 10.8/42.2 MB 11.9 MB/s eta 0:00:03\n",
      "   ---------- ----------------------------- 11.0/42.2 MB 11.3 MB/s eta 0:00:03\n",
      "   ---------- ----------------------------- 11.5/42.2 MB 11.1 MB/s eta 0:00:03\n",
      "   ----------- ---------------------------- 11.8/42.2 MB 11.1 MB/s eta 0:00:03\n",
      "   ----------- ---------------------------- 12.2/42.2 MB 10.9 MB/s eta 0:00:03\n",
      "   ----------- ---------------------------- 12.5/42.2 MB 10.4 MB/s eta 0:00:03\n",
      "   ------------ --------------------------- 13.1/42.2 MB 11.1 MB/s eta 0:00:03\n",
      "   ------------ --------------------------- 13.6/42.2 MB 10.9 MB/s eta 0:00:03\n",
      "   ------------- -------------------------- 14.1/42.2 MB 10.2 MB/s eta 0:00:03\n",
      "   ------------- -------------------------- 14.6/42.2 MB 9.8 MB/s eta 0:00:03\n",
      "   -------------- ------------------------- 15.1/42.2 MB 9.4 MB/s eta 0:00:03\n",
      "   -------------- ------------------------- 15.5/42.2 MB 9.4 MB/s eta 0:00:03\n",
      "   --------------- ------------------------ 16.0/42.2 MB 9.2 MB/s eta 0:00:03\n",
      "   --------------- ------------------------ 16.4/42.2 MB 9.2 MB/s eta 0:00:03\n",
      "   --------------- ------------------------ 16.8/42.2 MB 9.1 MB/s eta 0:00:03\n",
      "   ---------------- ----------------------- 17.1/42.2 MB 8.8 MB/s eta 0:00:03\n",
      "   ---------------- ----------------------- 17.6/42.2 MB 8.8 MB/s eta 0:00:03\n",
      "   ---------------- ----------------------- 17.9/42.2 MB 8.7 MB/s eta 0:00:03\n",
      "   ----------------- ---------------------- 18.4/42.2 MB 8.7 MB/s eta 0:00:03\n",
      "   ----------------- ---------------------- 18.7/42.2 MB 8.6 MB/s eta 0:00:03\n",
      "   ------------------ --------------------- 19.1/42.2 MB 8.5 MB/s eta 0:00:03\n",
      "   ------------------ --------------------- 19.5/42.2 MB 8.5 MB/s eta 0:00:03\n",
      "   ------------------ --------------------- 19.9/42.2 MB 9.1 MB/s eta 0:00:03\n",
      "   ------------------- -------------------- 20.3/42.2 MB 8.6 MB/s eta 0:00:03\n",
      "   ------------------- -------------------- 20.7/42.2 MB 8.3 MB/s eta 0:00:03\n",
      "   -------------------- ------------------- 21.2/42.2 MB 8.3 MB/s eta 0:00:03\n",
      "   -------------------- ------------------- 21.5/42.2 MB 8.3 MB/s eta 0:00:03\n",
      "   -------------------- ------------------- 22.0/42.2 MB 8.4 MB/s eta 0:00:03\n",
      "   --------------------- ------------------ 22.4/42.2 MB 8.4 MB/s eta 0:00:03\n",
      "   --------------------- ------------------ 22.8/42.2 MB 8.5 MB/s eta 0:00:03\n",
      "   --------------------- ------------------ 23.2/42.2 MB 8.4 MB/s eta 0:00:03\n",
      "   ---------------------- ----------------- 23.6/42.2 MB 8.5 MB/s eta 0:00:03\n",
      "   ---------------------- ----------------- 24.0/42.2 MB 8.5 MB/s eta 0:00:03\n",
      "   ----------------------- ---------------- 24.4/42.2 MB 8.6 MB/s eta 0:00:03\n",
      "   ----------------------- ---------------- 24.8/42.2 MB 8.6 MB/s eta 0:00:03\n",
      "   ----------------------- ---------------- 25.3/42.2 MB 8.5 MB/s eta 0:00:02\n",
      "   ------------------------ --------------- 25.7/42.2 MB 8.6 MB/s eta 0:00:02\n",
      "   ------------------------ --------------- 26.1/42.2 MB 8.6 MB/s eta 0:00:02\n",
      "   ------------------------- -------------- 26.5/42.2 MB 8.7 MB/s eta 0:00:02\n",
      "   ------------------------- -------------- 26.9/42.2 MB 8.7 MB/s eta 0:00:02\n",
      "   ------------------------- -------------- 27.4/42.2 MB 8.7 MB/s eta 0:00:02\n",
      "   -------------------------- ------------- 27.7/42.2 MB 8.7 MB/s eta 0:00:02\n",
      "   -------------------------- ------------- 28.2/42.2 MB 8.7 MB/s eta 0:00:02\n",
      "   --------------------------- ------------ 28.6/42.2 MB 8.8 MB/s eta 0:00:02\n",
      "   --------------------------- ------------ 29.0/42.2 MB 9.0 MB/s eta 0:00:02\n",
      "   --------------------------- ------------ 29.4/42.2 MB 8.8 MB/s eta 0:00:02\n",
      "   ---------------------------- ----------- 30.0/42.2 MB 9.0 MB/s eta 0:00:02\n",
      "   ---------------------------- ----------- 30.4/42.2 MB 9.0 MB/s eta 0:00:02\n",
      "   ----------------------------- ---------- 31.0/42.2 MB 9.0 MB/s eta 0:00:02\n",
      "   ----------------------------- ---------- 31.6/42.2 MB 9.1 MB/s eta 0:00:02\n",
      "   ------------------------------ --------- 32.0/42.2 MB 9.1 MB/s eta 0:00:02\n",
      "   ------------------------------ --------- 32.6/42.2 MB 9.1 MB/s eta 0:00:02\n",
      "   ------------------------------- -------- 33.2/42.2 MB 9.1 MB/s eta 0:00:01\n",
      "   ------------------------------- -------- 33.7/42.2 MB 9.1 MB/s eta 0:00:01\n",
      "   -------------------------------- ------- 34.3/42.2 MB 9.1 MB/s eta 0:00:01\n",
      "   -------------------------------- ------- 34.7/42.2 MB 9.1 MB/s eta 0:00:01\n",
      "   --------------------------------- ------ 35.3/42.2 MB 9.1 MB/s eta 0:00:01\n",
      "   ---------------------------------- ----- 35.9/42.2 MB 9.2 MB/s eta 0:00:01\n",
      "   ---------------------------------- ----- 36.3/42.2 MB 9.1 MB/s eta 0:00:01\n",
      "   ---------------------------------- ----- 36.7/42.2 MB 9.2 MB/s eta 0:00:01\n",
      "   ----------------------------------- ---- 37.2/42.2 MB 9.2 MB/s eta 0:00:01\n",
      "   ----------------------------------- ---- 37.6/42.2 MB 9.2 MB/s eta 0:00:01\n",
      "   ------------------------------------ --- 38.0/42.2 MB 9.2 MB/s eta 0:00:01\n",
      "   ------------------------------------ --- 38.5/42.2 MB 9.2 MB/s eta 0:00:01\n",
      "   ------------------------------------ --- 38.9/42.2 MB 9.2 MB/s eta 0:00:01\n",
      "   ------------------------------------- -- 39.4/42.2 MB 9.2 MB/s eta 0:00:01\n",
      "   ------------------------------------- -- 39.7/42.2 MB 9.2 MB/s eta 0:00:01\n",
      "   -------------------------------------- - 40.2/42.2 MB 9.2 MB/s eta 0:00:01\n",
      "   -------------------------------------- - 40.6/42.2 MB 9.2 MB/s eta 0:00:01\n",
      "   -------------------------------------- - 41.1/42.2 MB 9.2 MB/s eta 0:00:01\n",
      "   ---------------------------------------  41.5/42.2 MB 9.2 MB/s eta 0:00:01\n",
      "   ---------------------------------------  42.0/42.2 MB 9.2 MB/s eta 0:00:01\n",
      "   ---------------------------------------  42.2/42.2 MB 9.2 MB/s eta 0:00:01\n",
      "   ---------------------------------------  42.2/42.2 MB 9.2 MB/s eta 0:00:01\n",
      "   ---------------------------------------  42.2/42.2 MB 9.2 MB/s eta 0:00:01\n",
      "   ---------------------------------------- 42.2/42.2 MB 8.4 MB/s eta 0:00:00\n",
      "Using cached seaborn-0.13.2-py3-none-any.whl (294 kB)\n",
      "Using cached thop-0.1.1.post2209072238-py3-none-any.whl (15 kB)\n",
      "Downloading tqdm-4.66.2-py3-none-any.whl (78 kB)\n",
      "   ---------------------------------------- 0.0/78.3 kB ? eta -:--:--\n",
      "   ---------------------------------------- 78.3/78.3 kB 4.5 MB/s eta 0:00:00\n",
      "Using cached py_cpuinfo-9.0.0-py3-none-any.whl (22 kB)\n",
      "Downloading contourpy-1.1.1-cp38-cp38-win_amd64.whl (477 kB)\n",
      "   ---------------------------------------- 0.0/477.9 kB ? eta -:--:--\n",
      "   ---------------------------------------  471.0/477.9 kB 9.8 MB/s eta 0:00:01\n",
      "   ---------------------------------------- 477.9/477.9 kB 7.4 MB/s eta 0:00:00\n",
      "Using cached cycler-0.12.1-py3-none-any.whl (8.3 kB)\n",
      "Downloading fonttools-4.51.0-cp38-cp38-win_amd64.whl (1.5 MB)\n",
      "   ---------------------------------------- 0.0/1.5 MB ? eta -:--:--\n",
      "   -------------- ------------------------- 0.5/1.5 MB 11.3 MB/s eta 0:00:01\n",
      "   ----------------------- ---------------- 0.9/1.5 MB 11.2 MB/s eta 0:00:01\n",
      "   ------------------------------------- -- 1.4/1.5 MB 9.9 MB/s eta 0:00:01\n",
      "   ---------------------------------------- 1.5/1.5 MB 9.6 MB/s eta 0:00:00\n",
      "Downloading importlib_resources-6.4.0-py3-none-any.whl (38 kB)\n",
      "Downloading kiwisolver-1.4.5-cp38-cp38-win_amd64.whl (56 kB)\n",
      "   ---------------------------------------- 0.0/56.2 kB ? eta -:--:--\n",
      "   ---------------------------------------- 56.2/56.2 kB 3.1 MB/s eta 0:00:00\n",
      "Using cached pyparsing-3.1.2-py3-none-any.whl (103 kB)\n",
      "Using cached pytz-2024.1-py2.py3-none-any.whl (505 kB)\n",
      "Using cached tzdata-2024.1-py2.py3-none-any.whl (345 kB)\n",
      "Using cached fsspec-2024.3.1-py3-none-any.whl (171 kB)\n",
      "Installing collected packages: pytz, py-cpuinfo, tzdata, tqdm, scipy, pyparsing, kiwisolver, importlib-resources, fsspec, fonttools, cycler, contourpy, pandas, matplotlib, thop, seaborn, ultralytics\n",
      "Successfully installed contourpy-1.1.1 cycler-0.12.1 fonttools-4.51.0 fsspec-2024.3.1 importlib-resources-6.4.0 kiwisolver-1.4.5 matplotlib-3.7.5 pandas-2.0.3 py-cpuinfo-9.0.0 pyparsing-3.1.2 pytz-2024.1 scipy-1.10.1 seaborn-0.13.2 thop-0.1.1.post2209072238 tqdm-4.66.2 tzdata-2024.1 ultralytics-8.2.2\n"
     ]
    }
   ],
   "source": [
    "# Install the ultralytics package using conda\n",
    "# !pip install ultralytics "
   ]
  },
  {
   "cell_type": "code",
   "execution_count": 15,
   "metadata": {},
   "outputs": [
    {
     "name": "stdout",
     "output_type": "stream",
     "text": [
      "tensor([[0.3545, 0.7182, 0.1926],\n",
      "        [0.3335, 0.5369, 0.6255],\n",
      "        [0.3891, 0.2022, 0.7775],\n",
      "        [0.4690, 0.1277, 0.5365],\n",
      "        [0.2610, 0.4293, 0.3008]])\n"
     ]
    }
   ],
   "source": [
    "import torch\n",
    "x = torch.rand(5, 3)\n",
    "print(x)"
   ]
  },
  {
   "cell_type": "code",
   "execution_count": 16,
   "metadata": {},
   "outputs": [
    {
     "data": {
      "text/plain": [
       "True"
      ]
     },
     "execution_count": 16,
     "metadata": {},
     "output_type": "execute_result"
    }
   ],
   "source": [
    "# CUDA driver is enabled\n",
    "import torch\n",
    "torch.cuda.is_available()"
   ]
  },
  {
   "cell_type": "code",
   "execution_count": 17,
   "metadata": {},
   "outputs": [
    {
     "name": "stdout",
     "output_type": "stream",
     "text": [
      "Ultralytics YOLOv8.2.2  Python-3.8.19 torch-2.2.2 CUDA:1 (NVIDIA GeForce RTX 3080 Ti, 12288MiB)\n",
      "\u001b[34m\u001b[1mengine\\trainer: \u001b[0mtask=segment, mode=train, model=yolov8n-seg.pt, data=YOLO_dataset/data.yaml, epochs=10, time=None, patience=100, batch=16, imgsz=640, save=True, save_period=-1, cache=False, device=1, workers=8, project=None, name=train28, exist_ok=False, pretrained=True, optimizer=auto, verbose=True, seed=0, deterministic=True, single_cls=False, rect=False, cos_lr=False, close_mosaic=10, resume=False, amp=True, fraction=1.0, profile=False, freeze=None, multi_scale=False, overlap_mask=True, mask_ratio=4, dropout=0.0, val=True, split=val, save_json=False, save_hybrid=False, conf=None, iou=0.7, max_det=300, half=False, dnn=False, plots=True, source=None, vid_stride=1, stream_buffer=False, visualize=False, augment=False, agnostic_nms=False, classes=None, retina_masks=False, embed=None, show=False, save_frames=False, save_txt=False, save_conf=False, save_crop=False, show_labels=True, show_conf=True, show_boxes=True, line_width=None, format=torchscript, keras=False, optimize=False, int8=False, dynamic=False, simplify=False, opset=None, workspace=4, nms=False, lr0=0.01, lrf=0.01, momentum=0.937, weight_decay=0.0005, warmup_epochs=3.0, warmup_momentum=0.8, warmup_bias_lr=0.1, box=7.5, cls=0.5, dfl=1.5, pose=12.0, kobj=1.0, label_smoothing=0.0, nbs=64, hsv_h=0.015, hsv_s=0.7, hsv_v=0.4, degrees=0.0, translate=0.1, scale=0.5, shear=0.0, perspective=0.0, flipud=0.0, fliplr=0.5, bgr=0.0, mosaic=1.0, mixup=0.0, copy_paste=0.0, auto_augment=randaugment, erasing=0.4, crop_fraction=1.0, cfg=None, tracker=botsort.yaml, save_dir=runs\\segment\\train28\n",
      "Overriding model.yaml nc=80 with nc=3\n",
      "\n",
      "                   from  n    params  module                                       arguments                     \n",
      "  0                  -1  1       464  ultralytics.nn.modules.conv.Conv             [3, 16, 3, 2]                 \n",
      "  1                  -1  1      4672  ultralytics.nn.modules.conv.Conv             [16, 32, 3, 2]                \n",
      "  2                  -1  1      7360  ultralytics.nn.modules.block.C2f             [32, 32, 1, True]             \n",
      "  3                  -1  1     18560  ultralytics.nn.modules.conv.Conv             [32, 64, 3, 2]                \n",
      "  4                  -1  2     49664  ultralytics.nn.modules.block.C2f             [64, 64, 2, True]             \n",
      "  5                  -1  1     73984  ultralytics.nn.modules.conv.Conv             [64, 128, 3, 2]               \n",
      "  6                  -1  2    197632  ultralytics.nn.modules.block.C2f             [128, 128, 2, True]           \n",
      "  7                  -1  1    295424  ultralytics.nn.modules.conv.Conv             [128, 256, 3, 2]              \n",
      "  8                  -1  1    460288  ultralytics.nn.modules.block.C2f             [256, 256, 1, True]           \n",
      "  9                  -1  1    164608  ultralytics.nn.modules.block.SPPF            [256, 256, 5]                 \n",
      " 10                  -1  1         0  torch.nn.modules.upsampling.Upsample         [None, 2, 'nearest']          \n",
      " 11             [-1, 6]  1         0  ultralytics.nn.modules.conv.Concat           [1]                           \n",
      " 12                  -1  1    148224  ultralytics.nn.modules.block.C2f             [384, 128, 1]                 \n",
      " 13                  -1  1         0  torch.nn.modules.upsampling.Upsample         [None, 2, 'nearest']          \n",
      " 14             [-1, 4]  1         0  ultralytics.nn.modules.conv.Concat           [1]                           \n",
      " 15                  -1  1     37248  ultralytics.nn.modules.block.C2f             [192, 64, 1]                  \n",
      " 16                  -1  1     36992  ultralytics.nn.modules.conv.Conv             [64, 64, 3, 2]                \n",
      " 17            [-1, 12]  1         0  ultralytics.nn.modules.conv.Concat           [1]                           \n",
      " 18                  -1  1    123648  ultralytics.nn.modules.block.C2f             [192, 128, 1]                 \n",
      " 19                  -1  1    147712  ultralytics.nn.modules.conv.Conv             [128, 128, 3, 2]              \n",
      " 20             [-1, 9]  1         0  ultralytics.nn.modules.conv.Concat           [1]                           \n",
      " 21                  -1  1    493056  ultralytics.nn.modules.block.C2f             [384, 256, 1]                 \n",
      " 22        [15, 18, 21]  1   1004665  ultralytics.nn.modules.head.Segment          [3, 32, 64, [64, 128, 256]]   \n",
      "YOLOv8n-seg summary: 261 layers, 3264201 parameters, 3264185 gradients, 12.1 GFLOPs\n",
      "\n",
      "Transferred 381/417 items from pretrained weights\n",
      "Freezing layer 'model.22.dfl.conv.weight'\n",
      "\u001b[34m\u001b[1mAMP: \u001b[0mrunning Automatic Mixed Precision (AMP) checks with YOLOv8n...\n",
      "\u001b[34m\u001b[1mAMP: \u001b[0mchecks passed \n"
     ]
    },
    {
     "name": "stderr",
     "output_type": "stream",
     "text": [
      "\u001b[34m\u001b[1mtrain: \u001b[0mScanning G:\\github\\surg_seg\\YOLO_dataset\\train\\labels.cache... 42 images, 1 backgrounds, 0 corrupt: 100%|██████████| 42/42 [00:00<?, ?it/s]\n",
      "\u001b[34m\u001b[1mval: \u001b[0mScanning G:\\github\\surg_seg\\YOLO_dataset\\validation\\labels.cache... 12 images, 0 backgrounds, 0 corrupt: 100%|██████████| 12/12 [00:00<?, ?it/s]\n"
     ]
    },
    {
     "name": "stdout",
     "output_type": "stream",
     "text": [
      "Plotting labels to runs\\segment\\train28\\labels.jpg... \n",
      "\u001b[34m\u001b[1moptimizer:\u001b[0m 'optimizer=auto' found, ignoring 'lr0=0.01' and 'momentum=0.937' and determining best 'optimizer', 'lr0' and 'momentum' automatically... \n",
      "\u001b[34m\u001b[1moptimizer:\u001b[0m AdamW(lr=0.001429, momentum=0.9) with parameter groups 66 weight(decay=0.0), 77 weight(decay=0.0005), 76 bias(decay=0.0)\n",
      "Image sizes 640 train, 640 val\n",
      "Using 4 dataloader workers\n",
      "Logging results to \u001b[1mruns\\segment\\train28\u001b[0m\n",
      "Starting training for 10 epochs...\n",
      "Closing dataloader mosaic\n",
      "\n",
      "      Epoch    GPU_mem   box_loss   seg_loss   cls_loss   dfl_loss  Instances       Size\n"
     ]
    },
    {
     "name": "stderr",
     "output_type": "stream",
     "text": [
      "       1/10      2.67G      1.721      4.176      3.753      1.782         25        640: 100%|██████████| 3/3 [00:14<00:00,  4.73s/it]\n",
      "                 Class     Images  Instances      Box(P          R      mAP50  mAP50-95)     Mask(P          R      mAP50  mAP50-95): 100%|██████████| 1/1 [00:01<00:00,  1.31s/it]"
     ]
    },
    {
     "name": "stdout",
     "output_type": "stream",
     "text": [
      "                   all         12         26    0.00652      0.893      0.186      0.117    0.00595      0.786       0.18     0.0786\n"
     ]
    },
    {
     "name": "stderr",
     "output_type": "stream",
     "text": [
      "\n"
     ]
    },
    {
     "name": "stdout",
     "output_type": "stream",
     "text": [
      "\n",
      "      Epoch    GPU_mem   box_loss   seg_loss   cls_loss   dfl_loss  Instances       Size\n"
     ]
    },
    {
     "name": "stderr",
     "output_type": "stream",
     "text": [
      "       2/10      2.57G      1.592      4.088      3.697      1.671         23        640: 100%|██████████| 3/3 [00:01<00:00,  2.02it/s]\n",
      "                 Class     Images  Instances      Box(P          R      mAP50  mAP50-95)     Mask(P          R      mAP50  mAP50-95): 100%|██████████| 1/1 [00:00<00:00,  1.82it/s]"
     ]
    },
    {
     "name": "stdout",
     "output_type": "stream",
     "text": [
      "                   all         12         26    0.00648      0.893      0.185      0.112    0.00591      0.786      0.165     0.0727\n"
     ]
    },
    {
     "name": "stderr",
     "output_type": "stream",
     "text": [
      "\n"
     ]
    },
    {
     "name": "stdout",
     "output_type": "stream",
     "text": [
      "\n",
      "      Epoch    GPU_mem   box_loss   seg_loss   cls_loss   dfl_loss  Instances       Size\n"
     ]
    },
    {
     "name": "stderr",
     "output_type": "stream",
     "text": [
      "       3/10      2.71G      1.721      3.999       3.91      1.752         18        640: 100%|██████████| 3/3 [00:01<00:00,  1.63it/s]\n",
      "                 Class     Images  Instances      Box(P          R      mAP50  mAP50-95)     Mask(P          R      mAP50  mAP50-95): 100%|██████████| 1/1 [00:00<00:00,  1.75it/s]"
     ]
    },
    {
     "name": "stdout",
     "output_type": "stream",
     "text": [
      "                   all         12         26    0.00655      0.893       0.19       0.13    0.00598      0.786      0.188     0.0836\n"
     ]
    },
    {
     "name": "stderr",
     "output_type": "stream",
     "text": [
      "\n"
     ]
    },
    {
     "name": "stdout",
     "output_type": "stream",
     "text": [
      "\n",
      "      Epoch    GPU_mem   box_loss   seg_loss   cls_loss   dfl_loss  Instances       Size\n"
     ]
    },
    {
     "name": "stderr",
     "output_type": "stream",
     "text": [
      "       4/10       2.6G       1.35      2.908      3.617      1.452         19        640: 100%|██████████| 3/3 [00:01<00:00,  2.04it/s]\n",
      "                 Class     Images  Instances      Box(P          R      mAP50  mAP50-95)     Mask(P          R      mAP50  mAP50-95): 100%|██████████| 1/1 [00:00<00:00,  1.45it/s]"
     ]
    },
    {
     "name": "stdout",
     "output_type": "stream",
     "text": [
      "                   all         12         26    0.00733      0.935      0.242      0.169    0.00637      0.845      0.175     0.0813\n"
     ]
    },
    {
     "name": "stderr",
     "output_type": "stream",
     "text": [
      "\n"
     ]
    },
    {
     "name": "stdout",
     "output_type": "stream",
     "text": [
      "\n",
      "      Epoch    GPU_mem   box_loss   seg_loss   cls_loss   dfl_loss  Instances       Size\n"
     ]
    },
    {
     "name": "stderr",
     "output_type": "stream",
     "text": [
      "       5/10      2.73G      1.154      2.288       3.27      1.306         35        640: 100%|██████████| 3/3 [00:01<00:00,  2.01it/s]\n",
      "                 Class     Images  Instances      Box(P          R      mAP50  mAP50-95)     Mask(P          R      mAP50  mAP50-95): 100%|██████████| 1/1 [00:00<00:00,  1.77it/s]"
     ]
    },
    {
     "name": "stdout",
     "output_type": "stream",
     "text": [
      "                   all         12         26     0.0083      0.935      0.292       0.18    0.00696      0.762      0.187      0.054\n"
     ]
    },
    {
     "name": "stderr",
     "output_type": "stream",
     "text": [
      "\n"
     ]
    },
    {
     "name": "stdout",
     "output_type": "stream",
     "text": [
      "\n",
      "      Epoch    GPU_mem   box_loss   seg_loss   cls_loss   dfl_loss  Instances       Size\n"
     ]
    },
    {
     "name": "stderr",
     "output_type": "stream",
     "text": [
      "       6/10      2.73G     0.9946       1.93       2.96      1.182         28        640: 100%|██████████| 3/3 [00:01<00:00,  1.92it/s]\n",
      "                 Class     Images  Instances      Box(P          R      mAP50  mAP50-95)     Mask(P          R      mAP50  mAP50-95): 100%|██████████| 1/1 [00:00<00:00,  1.95it/s]"
     ]
    },
    {
     "name": "stdout",
     "output_type": "stream",
     "text": [
      "                   all         12         26    0.00899      0.935       0.27      0.172    0.00732      0.679      0.147     0.0529\n"
     ]
    },
    {
     "name": "stderr",
     "output_type": "stream",
     "text": [
      "\n"
     ]
    },
    {
     "name": "stdout",
     "output_type": "stream",
     "text": [
      "\n",
      "      Epoch    GPU_mem   box_loss   seg_loss   cls_loss   dfl_loss  Instances       Size\n"
     ]
    },
    {
     "name": "stderr",
     "output_type": "stream",
     "text": [
      "       7/10       2.6G     0.9499      1.875      2.762      1.172         28        640: 100%|██████████| 3/3 [00:01<00:00,  1.80it/s]\n",
      "                 Class     Images  Instances      Box(P          R      mAP50  mAP50-95)     Mask(P          R      mAP50  mAP50-95): 100%|██████████| 1/1 [00:00<00:00,  1.74it/s]"
     ]
    },
    {
     "name": "stdout",
     "output_type": "stream",
     "text": [
      "                   all         12         26    0.00922      0.935      0.254      0.165    0.00752      0.679      0.116     0.0419\n"
     ]
    },
    {
     "name": "stderr",
     "output_type": "stream",
     "text": [
      "\n"
     ]
    },
    {
     "name": "stdout",
     "output_type": "stream",
     "text": [
      "\n",
      "      Epoch    GPU_mem   box_loss   seg_loss   cls_loss   dfl_loss  Instances       Size\n"
     ]
    },
    {
     "name": "stderr",
     "output_type": "stream",
     "text": [
      "       8/10      2.74G      1.039      1.746      2.647      1.233         22        640: 100%|██████████| 3/3 [00:01<00:00,  2.23it/s]\n",
      "                 Class     Images  Instances      Box(P          R      mAP50  mAP50-95)     Mask(P          R      mAP50  mAP50-95): 100%|██████████| 1/1 [00:00<00:00,  1.78it/s]"
     ]
    },
    {
     "name": "stdout",
     "output_type": "stream",
     "text": [
      "                   all         12         26    0.00917      0.935      0.271      0.188    0.00821      0.786      0.113     0.0418\n"
     ]
    },
    {
     "name": "stderr",
     "output_type": "stream",
     "text": [
      "\n"
     ]
    },
    {
     "name": "stdout",
     "output_type": "stream",
     "text": [
      "\n",
      "      Epoch    GPU_mem   box_loss   seg_loss   cls_loss   dfl_loss  Instances       Size\n"
     ]
    },
    {
     "name": "stderr",
     "output_type": "stream",
     "text": [
      "       9/10       2.6G     0.9106      1.603      2.562      1.191         22        640: 100%|██████████| 3/3 [00:01<00:00,  1.79it/s]\n",
      "                 Class     Images  Instances      Box(P          R      mAP50  mAP50-95)     Mask(P          R      mAP50  mAP50-95): 100%|██████████| 1/1 [00:00<00:00,  1.41it/s]"
     ]
    },
    {
     "name": "stdout",
     "output_type": "stream",
     "text": [
      "                   all         12         26    0.00926      0.935      0.259      0.181    0.00801      0.804      0.136     0.0506\n"
     ]
    },
    {
     "name": "stderr",
     "output_type": "stream",
     "text": [
      "\n"
     ]
    },
    {
     "name": "stdout",
     "output_type": "stream",
     "text": [
      "\n",
      "      Epoch    GPU_mem   box_loss   seg_loss   cls_loss   dfl_loss  Instances       Size\n"
     ]
    },
    {
     "name": "stderr",
     "output_type": "stream",
     "text": [
      "      10/10       2.6G     0.9737      1.702      2.521      1.193         26        640: 100%|██████████| 3/3 [00:01<00:00,  2.15it/s]\n",
      "                 Class     Images  Instances      Box(P          R      mAP50  mAP50-95)     Mask(P          R      mAP50  mAP50-95): 100%|██████████| 1/1 [00:00<00:00,  2.08it/s]"
     ]
    },
    {
     "name": "stdout",
     "output_type": "stream",
     "text": [
      "                   all         12         26    0.00917      0.935      0.264      0.186    0.00793      0.804      0.176     0.0588\n"
     ]
    },
    {
     "name": "stderr",
     "output_type": "stream",
     "text": [
      "\n"
     ]
    },
    {
     "name": "stdout",
     "output_type": "stream",
     "text": [
      "\n",
      "10 epochs completed in 0.020 hours.\n",
      "Optimizer stripped from runs\\segment\\train28\\weights\\last.pt, 6.8MB\n",
      "Optimizer stripped from runs\\segment\\train28\\weights\\best.pt, 6.8MB\n",
      "\n",
      "Validating runs\\segment\\train28\\weights\\best.pt...\n",
      "Ultralytics YOLOv8.2.2  Python-3.8.19 torch-2.2.2 CUDA:1 (NVIDIA GeForce RTX 3080 Ti, 12288MiB)\n",
      "YOLOv8n-seg summary (fused): 195 layers, 3258649 parameters, 0 gradients, 12.0 GFLOPs\n"
     ]
    },
    {
     "name": "stderr",
     "output_type": "stream",
     "text": [
      "                 Class     Images  Instances      Box(P          R      mAP50  mAP50-95)     Mask(P          R      mAP50  mAP50-95): 100%|██████████| 1/1 [00:00<00:00,  2.20it/s]\n"
     ]
    },
    {
     "name": "stdout",
     "output_type": "stream",
     "text": [
      "                   all         12         26    0.00731      0.935      0.244       0.17    0.00636      0.845      0.177     0.0808\n",
      "                 clamp         12         14     0.0136      0.929      0.585      0.392     0.0115      0.786      0.388      0.172\n",
      "              tweezers         12          8    0.00529      0.875     0.0458     0.0323    0.00454       0.75     0.0435     0.0223\n",
      "              scissors         12          4    0.00302          1     0.0996     0.0847    0.00302          1     0.0998     0.0478\n",
      "Speed: 1.3ms preprocess, 3.9ms inference, 0.0ms loss, 10.2ms postprocess per image\n",
      "Results saved to \u001b[1mruns\\segment\\train28\u001b[0m\n"
     ]
    }
   ],
   "source": [
    "from ultralytics import YOLO\n",
    "\n",
    "# Load a model\n",
    "# model = YOLO('yolov8n-seg.yaml')  # build a new model from YAML\n",
    "model = YOLO('yolov8n-seg.pt')  # load a pretrained model (recommended for training)\n",
    "# model = YOLO('yolov8n-seg.yaml').load('yolov8n.pt')  # build from YAML and transfer weights\n",
    "\n",
    "# Train the model\n",
    "results = model.train(data='YOLO_dataset/data.yaml', epochs=10, imgsz=640, device=1)"
   ]
  },
  {
   "cell_type": "code",
   "execution_count": null,
   "metadata": {},
   "outputs": [
    {
     "name": "stdout",
     "output_type": "stream",
     "text": [
      "Collecting opencv-python\n",
      "  Using cached opencv_python-4.9.0.80-cp37-abi3-win_amd64.whl.metadata (20 kB)\n",
      "Requirement already satisfied: numpy>=1.17.0 in c:\\users\\alex_ds\\anaconda3\\envs\\yolo\\lib\\site-packages (from opencv-python) (1.24.3)\n",
      "Using cached opencv_python-4.9.0.80-cp37-abi3-win_amd64.whl (38.6 MB)\n",
      "Installing collected packages: opencv-python\n",
      "Successfully installed opencv-python-4.9.0.80\n"
     ]
    }
   ],
   "source": [
    "# !pip install opencv-python"
   ]
  },
  {
   "cell_type": "code",
   "execution_count": null,
   "metadata": {},
   "outputs": [],
   "source": [
    "# import cv2"
   ]
  },
  {
   "cell_type": "code",
   "execution_count": null,
   "metadata": {},
   "outputs": [],
   "source": []
  }
 ],
 "metadata": {
  "kernelspec": {
   "display_name": "yolo2",
   "language": "python",
   "name": "python3"
  },
  "language_info": {
   "codemirror_mode": {
    "name": "ipython",
    "version": 3
   },
   "file_extension": ".py",
   "mimetype": "text/x-python",
   "name": "python",
   "nbconvert_exporter": "python",
   "pygments_lexer": "ipython3",
   "version": "3.8.19"
  }
 },
 "nbformat": 4,
 "nbformat_minor": 2
}
